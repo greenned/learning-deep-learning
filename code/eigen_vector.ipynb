{
 "cells": [
  {
   "cell_type": "markdown",
   "metadata": {},
   "source": [
    "# 고유벡터와 고유값\n",
    "\n",
    "- 자세한 설명은 공돌이님의 [게시글](https://angeloyeo.github.io/2019/07/17/eigen_vector.html)을 참조해주세요\n",
    "- 노트북은 해당 게시글의 내용을 코드로 설명하기 위함입니다"
   ]
  },
  {
   "cell_type": "markdown",
   "metadata": {},
   "source": [
    "## 선형 변환\n",
    "- `np.dot`, `np.matmul`, `@` 연산을 통해 선형변환을 수행 할 수 있음"
   ]
  },
  {
   "cell_type": "code",
   "execution_count": null,
   "metadata": {},
   "outputs": [],
   "source": [
    "!pip install -r requirements.txt\n",
    "\n",
    "import numpy as np"
   ]
  },
  {
   "cell_type": "code",
   "execution_count": 25,
   "metadata": {},
   "outputs": [
    {
     "name": "stdout",
     "output_type": "stream",
     "text": [
      "sample_vector:\n",
      "[3 4]\n",
      "\n",
      "\n",
      "sample_matrix:\n",
      " [[1 1]\n",
      " [4 2]]\n"
     ]
    }
   ],
   "source": [
    "vector_size = 2 # 벡터 크기\n",
    "low, high = 0, 5 # \n",
    "sample_vector = np.random.randint(low, high, size=vector_size) # 샘플 벡터 생성\n",
    "sample_matrix = np.random.randint(low, high, size=(sample_vector.shape[0], sample_vector.shape[0]))\n",
    "\n",
    "print(f\"sample_vector:\\n{sample_vector}\\n\\n\")\n",
    "print(f\"sample_matrix:\\n {sample_matrix}\")"
   ]
  },
  {
   "cell_type": "code",
   "execution_count": 40,
   "metadata": {},
   "outputs": [
    {
     "name": "stdout",
     "output_type": "stream",
     "text": [
      "np dot lienar transformations: \n",
      "[ 7 20]\n",
      "np matmult lienar transformations: \n",
      "[ 7 20]\n",
      "golbange lienar transformations: \n",
      "[ 7 20]\n"
     ]
    }
   ],
   "source": [
    "# 선형변환\n",
    "np_dot_linear_transformation = np.dot(sample_matrix, sample_vector)\n",
    "np_matmul_linear_transformation = np.matmul(sample_matrix, sample_vector)\n",
    "golbange_linear_Transformation = sample_matrix @ sample_vector\n",
    "\n",
    "print(f\"np dot lienar transformations: \\n{np_dot_linear_transformation}\")\n",
    "print(f\"np matmult lienar transformations: \\n{np_matmul_linear_transformation}\")\n",
    "print(f\"golbange lienar transformations: \\n{golbange_linear_Transformation}\")\n"
   ]
  },
  {
   "cell_type": "code",
   "execution_count": 54,
   "metadata": {},
   "outputs": [
    {
     "name": "stdout",
     "output_type": "stream",
     "text": [
      "The slowest run took 7.46 times longer than the fastest. This could mean that an intermediate result is being cached.\n",
      "3.57 µs ± 3.11 µs per loop (mean ± std. dev. of 10 runs, 100 loops each)\n"
     ]
    }
   ],
   "source": [
    "%%timeit -n 100 -r 10\n",
    "np.dot(sample_matrix, sample_vector)"
   ]
  },
  {
   "cell_type": "code",
   "execution_count": 55,
   "metadata": {},
   "outputs": [
    {
     "name": "stdout",
     "output_type": "stream",
     "text": [
      "1.15 µs ± 339 ns per loop (mean ± std. dev. of 10 runs, 100 loops each)\n"
     ]
    }
   ],
   "source": [
    "%%timeit -n 100 -r 10\n",
    "np.matmul(sample_matrix, sample_vector)"
   ]
  },
  {
   "cell_type": "code",
   "execution_count": 56,
   "metadata": {},
   "outputs": [
    {
     "name": "stdout",
     "output_type": "stream",
     "text": [
      "1.04 µs ± 135 ns per loop (mean ± std. dev. of 10 runs, 100 loops each)\n"
     ]
    }
   ],
   "source": [
    "%%timeit -n 100 -r 10\n",
    "sample_matrix @ sample_vector"
   ]
  },
  {
   "cell_type": "markdown",
   "metadata": {},
   "source": [
    "- 3개의 연산자 모두 같은 결과를 만들지만, `np.dot` 연산이 상대적으로 훨씬 느린 편이다(3배 차이)\n",
    "- 선형변환이 필요할 때는 `np.matmul` 혹은 `@` 연산자를 사용하자!"
   ]
  },
  {
   "cell_type": "markdown",
   "metadata": {},
   "source": [
    "## 고유값 & 고유벡터\n",
    "- `np.linalg.eig` 연산으로 고유값과 고유벡터 값을 쉽게 구할 수 있다"
   ]
  },
  {
   "cell_type": "code",
   "execution_count": 58,
   "metadata": {},
   "outputs": [
    {
     "name": "stdout",
     "output_type": "stream",
     "text": [
      "eigen_values:\n",
      "[-0.56155281  3.56155281]\n",
      "\n",
      "eigen_vecotrs:\n",
      "[[-0.5392856  -0.36365914]\n",
      " [ 0.84212294 -0.93153209]]\n"
     ]
    }
   ],
   "source": [
    "eigen_values, eigen_vectors = np.linalg.eig(sample_matrix)\n",
    "print(f\"eigen_values:\\n{eigen_values}\\n\")\n",
    "print(f\"eigen_vecotrs:\\n{eigen_vectors}\")"
   ]
  },
  {
   "cell_type": "markdown",
   "metadata": {},
   "source": [
    "- `Av=λv` 값이 맞는지 확인"
   ]
  },
  {
   "cell_type": "code",
   "execution_count": 69,
   "metadata": {},
   "outputs": [
    {
     "name": "stdout",
     "output_type": "stream",
     "text": [
      "left: [ 0.30283734 -0.47289651], right: [ 0.30283734 -0.47289651]\n",
      "left: [-1.29519123 -3.31770073], right: [-1.29519123 -3.31770073]\n"
     ]
    }
   ],
   "source": [
    "for e_value, e_vector in zip(eigen_values, eigen_vectors.T):\n",
    "    left = sample_matrix @ e_vector \n",
    "    right = e_value * e_vector\n",
    "    print(f\"left: {left}, right: {right}\")"
   ]
  }
 ],
 "metadata": {
  "kernelspec": {
   "display_name": "Python 3",
   "language": "python",
   "name": "python3"
  },
  "language_info": {
   "codemirror_mode": {
    "name": "ipython",
    "version": 3
   },
   "file_extension": ".py",
   "mimetype": "text/x-python",
   "name": "python",
   "nbconvert_exporter": "python",
   "pygments_lexer": "ipython3",
   "version": "3.9.18"
  }
 },
 "nbformat": 4,
 "nbformat_minor": 2
}
